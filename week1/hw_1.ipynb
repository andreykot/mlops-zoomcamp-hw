{
 "cells": [
  {
   "cell_type": "code",
   "execution_count": 1,
   "id": "b2bd82d7",
   "metadata": {},
   "outputs": [
    {
     "name": "stdout",
     "output_type": "stream",
     "text": [
      "Python 3.9.12\r\n"
     ]
    }
   ],
   "source": [
    "!python -V"
   ]
  },
  {
   "cell_type": "code",
   "execution_count": 2,
   "id": "41062d8a",
   "metadata": {},
   "outputs": [],
   "source": [
    "import pandas as pd"
   ]
  },
  {
   "cell_type": "code",
   "execution_count": 3,
   "id": "c984c564",
   "metadata": {},
   "outputs": [],
   "source": [
    "import pickle"
   ]
  },
  {
   "cell_type": "code",
   "execution_count": 4,
   "id": "4add538c",
   "metadata": {},
   "outputs": [],
   "source": [
    "import seaborn as sns\n",
    "import matplotlib.pyplot as plt"
   ]
  },
  {
   "cell_type": "code",
   "execution_count": 5,
   "id": "8b135c2b",
   "metadata": {},
   "outputs": [],
   "source": [
    "from sklearn.feature_extraction import DictVectorizer\n",
    "from sklearn.linear_model import LinearRegression\n",
    "from sklearn.linear_model import Lasso\n",
    "from sklearn.linear_model import Ridge\n",
    "\n",
    "from sklearn.metrics import mean_squared_error"
   ]
  },
  {
   "cell_type": "code",
   "execution_count": 6,
   "id": "a5db0a28",
   "metadata": {
    "scrolled": true
   },
   "outputs": [
    {
     "name": "stdout",
     "output_type": "stream",
     "text": [
      "fhv_tripdata_2021-01.parquet  green_tripdata_2021-01.parquet\r\n",
      "fhv_tripdata_2021-02.parquet  green_tripdata_2021-02.parquet\r\n"
     ]
    }
   ],
   "source": [
    "! ls /home/ubuntu/data"
   ]
  },
  {
   "cell_type": "code",
   "execution_count": 7,
   "id": "cb9bfa8e",
   "metadata": {},
   "outputs": [],
   "source": [
    "def read_dataframe(filename):\n",
    "    if filename.endswith('.parquet'):\n",
    "        df = pd.read_parquet(filename)\n",
    "    else:\n",
    "        raise ValueError(\"Unknown file format.\")\n",
    "        \n",
    "    print(\"Q1 Number of records: \", len(df))\n",
    "\n",
    "    df['duration'] = df.dropOff_datetime - df.pickup_datetime\n",
    "    df.duration = df.duration.apply(lambda td: td.total_seconds() / 60)\n",
    "    print(\"Q2 Average duration: \", round(df.duration.mean(), 2))\n",
    "    \n",
    "    filtered_df = df[(df.duration >= 1) & (df.duration <= 60)]\n",
    "    print(\"Dropped records: \", len(df) - len(filtered_df))\n",
    "    df = filtered_df\n",
    "\n",
    "    categorical = ['PUlocationID', 'DOlocationID']\n",
    "    df[categorical] = df[categorical].fillna(-1)\n",
    "    \n",
    "    missing_values = len(df[df.PUlocationID == -1]) / len(df) * 100\n",
    "    print(\"Q3 Missing values: \", round(missing_values, 2), \"%\")\n",
    "    \n",
    "    df[categorical] = df[categorical].astype(str)\n",
    "    \n",
    "    return df"
   ]
  },
  {
   "cell_type": "code",
   "execution_count": 8,
   "id": "ebeb170b",
   "metadata": {},
   "outputs": [
    {
     "name": "stdout",
     "output_type": "stream",
     "text": [
      "Q1 Number of records:  1154112\n",
      "Q2 Average duration:  19.17\n",
      "Dropped records:  44286\n",
      "Q3 Missing values:  83.53 %\n"
     ]
    }
   ],
   "source": [
    "df_jan = read_dataframe('/home/ubuntu/data/fhv_tripdata_2021-01.parquet')"
   ]
  },
  {
   "cell_type": "code",
   "execution_count": 9,
   "id": "5162d932",
   "metadata": {},
   "outputs": [
    {
     "name": "stdout",
     "output_type": "stream",
     "text": [
      "Q4 The dimensionality of the matrix:  525\n"
     ]
    }
   ],
   "source": [
    "categorical = ['PUlocationID', 'DOlocationID']\n",
    "train_dicts = df_jan[categorical].to_dict(orient='records')\n",
    "dv = DictVectorizer()\n",
    "X_train = dv.fit_transform(train_dicts)\n",
    "print(\"Q4 The dimensionality of the matrix: \", X_train.shape[1])"
   ]
  },
  {
   "cell_type": "code",
   "execution_count": 10,
   "id": "1a7bfecc",
   "metadata": {},
   "outputs": [
    {
     "name": "stdout",
     "output_type": "stream",
     "text": [
      "Q5 RMSE on train:  10.53\n"
     ]
    }
   ],
   "source": [
    "target = 'duration'\n",
    "y_train = df_jan[target].values\n",
    "\n",
    "lr = LinearRegression()\n",
    "lr.fit(X_train, y_train)\n",
    "\n",
    "y_pred = lr.predict(X_train)\n",
    "\n",
    "rmse_train = mean_squared_error(y_train, y_pred, squared=False)\n",
    "\n",
    "print(\"Q5 RMSE on train: \", round(rmse_train, 2))"
   ]
  },
  {
   "cell_type": "code",
   "execution_count": 12,
   "id": "967eecc9",
   "metadata": {
    "scrolled": true
   },
   "outputs": [
    {
     "name": "stdout",
     "output_type": "stream",
     "text": [
      "Q1 Number of records:  1037692\n",
      "Q2 Average duration:  20.71\n",
      "Dropped records:  47579\n",
      "Q3 Missing values:  85.71 %\n",
      "Q6 RMSE on validation:  11.01\n"
     ]
    }
   ],
   "source": [
    "df_feb = read_dataframe('/home/ubuntu/data/fhv_tripdata_2021-02.parquet')\n",
    "validation_dicts = df_feb[categorical].to_dict(orient='records')\n",
    "X_val = dv.transform(validation_dicts)\n",
    "y_val = df_feb[target].values\n",
    "y_pred = lr.predict(X_val)\n",
    "rmse_val = mean_squared_error(y_val, y_pred, squared=False)\n",
    "print(\"Q6 RMSE on validation: \", round(rmse_val, 2))"
   ]
  },
  {
   "cell_type": "code",
   "execution_count": null,
   "id": "14878d1f",
   "metadata": {},
   "outputs": [],
   "source": []
  }
 ],
 "metadata": {
  "kernelspec": {
   "display_name": "Python 3 (ipykernel)",
   "language": "python",
   "name": "python3"
  },
  "language_info": {
   "codemirror_mode": {
    "name": "ipython",
    "version": 3
   },
   "file_extension": ".py",
   "mimetype": "text/x-python",
   "name": "python",
   "nbconvert_exporter": "python",
   "pygments_lexer": "ipython3",
   "version": "3.9.12"
  }
 },
 "nbformat": 4,
 "nbformat_minor": 5
}
