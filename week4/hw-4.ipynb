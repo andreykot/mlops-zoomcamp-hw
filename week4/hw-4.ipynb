{
 "cells": [
  {
   "cell_type": "code",
   "execution_count": 1,
   "id": "2c51efaa",
   "metadata": {},
   "outputs": [
    {
     "name": "stdout",
     "output_type": "stream",
     "text": [
      "scikit-learn==1.1.1\r\n"
     ]
    }
   ],
   "source": [
    "!pip freeze | grep scikit-learn"
   ]
  },
  {
   "cell_type": "code",
   "execution_count": 2,
   "id": "0ef880a0",
   "metadata": {},
   "outputs": [],
   "source": [
    "import pickle\n",
    "import pandas as pd"
   ]
  },
  {
   "cell_type": "code",
   "execution_count": 3,
   "id": "7836ccfd",
   "metadata": {},
   "outputs": [
    {
     "name": "stderr",
     "output_type": "stream",
     "text": [
      "/home/ubuntu/anaconda3/envs/exp-tracking-env/lib/python3.9/site-packages/sklearn/base.py:329: UserWarning: Trying to unpickle estimator DictVectorizer from version 1.0.2 when using version 1.1.1. This might lead to breaking code or invalid results. Use at your own risk. For more info please refer to:\n",
      "https://scikit-learn.org/stable/model_persistence.html#security-maintainability-limitations\n",
      "  warnings.warn(\n",
      "/home/ubuntu/anaconda3/envs/exp-tracking-env/lib/python3.9/site-packages/sklearn/base.py:329: UserWarning: Trying to unpickle estimator LinearRegression from version 1.0.2 when using version 1.1.1. This might lead to breaking code or invalid results. Use at your own risk. For more info please refer to:\n",
      "https://scikit-learn.org/stable/model_persistence.html#security-maintainability-limitations\n",
      "  warnings.warn(\n"
     ]
    }
   ],
   "source": [
    "with open('model.bin', 'rb') as f_in:\n",
    "    dv, lr = pickle.load(f_in)"
   ]
  },
  {
   "cell_type": "code",
   "execution_count": 4,
   "id": "41c08294",
   "metadata": {},
   "outputs": [],
   "source": [
    "categorical = ['PUlocationID', 'DOlocationID']\n",
    "\n",
    "def read_data(filename):\n",
    "    df = pd.read_parquet(filename)\n",
    "    \n",
    "    df['duration'] = df.dropOff_datetime - df.pickup_datetime\n",
    "    df['duration'] = df.duration.dt.total_seconds() / 60\n",
    "\n",
    "    df = df[(df.duration >= 1) & (df.duration <= 60)].copy()\n",
    "\n",
    "    df[categorical] = df[categorical].fillna(-1).astype('int').astype('str')\n",
    "    \n",
    "    return df"
   ]
  },
  {
   "cell_type": "code",
   "execution_count": 7,
   "id": "4854399a",
   "metadata": {},
   "outputs": [],
   "source": [
    "df = read_data('https://nyc-tlc.s3.amazonaws.com/trip+data/fhv_tripdata_2021-02.parquet')"
   ]
  },
  {
   "cell_type": "code",
   "execution_count": 8,
   "id": "669fda0a",
   "metadata": {},
   "outputs": [],
   "source": [
    "dicts = df[categorical].to_dict(orient='records')\n",
    "X_val = dv.transform(dicts)\n",
    "y_pred = lr.predict(X_val)"
   ]
  },
  {
   "cell_type": "code",
   "execution_count": 15,
   "id": "f6904d45",
   "metadata": {},
   "outputs": [
    {
     "data": {
      "text/plain": [
       "array([14.53986486, 13.74042222, 15.59333908, ..., 15.83492293,\n",
       "       16.78317605, 19.65462607])"
      ]
     },
     "execution_count": 15,
     "metadata": {},
     "output_type": "execute_result"
    }
   ],
   "source": [
    "y_pred"
   ]
  },
  {
   "cell_type": "code",
   "execution_count": 18,
   "id": "fb25c35f",
   "metadata": {},
   "outputs": [],
   "source": [
    "df_out = pd.DataFrame({'travel_time': y_pred})"
   ]
  },
  {
   "cell_type": "code",
   "execution_count": 20,
   "id": "b15d9dea",
   "metadata": {},
   "outputs": [],
   "source": [
    "year = 2021\n",
    "month = 2\n",
    "df_out['ride_id'] = f'{year:04d}/{month:02d}_' + df_out.index.astype('str')"
   ]
  },
  {
   "cell_type": "code",
   "execution_count": 21,
   "id": "254fe394",
   "metadata": {},
   "outputs": [
    {
     "data": {
      "text/html": [
       "<div>\n",
       "<style scoped>\n",
       "    .dataframe tbody tr th:only-of-type {\n",
       "        vertical-align: middle;\n",
       "    }\n",
       "\n",
       "    .dataframe tbody tr th {\n",
       "        vertical-align: top;\n",
       "    }\n",
       "\n",
       "    .dataframe thead th {\n",
       "        text-align: right;\n",
       "    }\n",
       "</style>\n",
       "<table border=\"1\" class=\"dataframe\">\n",
       "  <thead>\n",
       "    <tr style=\"text-align: right;\">\n",
       "      <th></th>\n",
       "      <th>travel_time</th>\n",
       "      <th>ride_id</th>\n",
       "    </tr>\n",
       "  </thead>\n",
       "  <tbody>\n",
       "    <tr>\n",
       "      <th>0</th>\n",
       "      <td>14.539865</td>\n",
       "      <td>2021/02_0</td>\n",
       "    </tr>\n",
       "    <tr>\n",
       "      <th>1</th>\n",
       "      <td>13.740422</td>\n",
       "      <td>2021/02_1</td>\n",
       "    </tr>\n",
       "    <tr>\n",
       "      <th>2</th>\n",
       "      <td>15.593339</td>\n",
       "      <td>2021/02_2</td>\n",
       "    </tr>\n",
       "    <tr>\n",
       "      <th>3</th>\n",
       "      <td>15.188118</td>\n",
       "      <td>2021/02_3</td>\n",
       "    </tr>\n",
       "    <tr>\n",
       "      <th>4</th>\n",
       "      <td>13.817206</td>\n",
       "      <td>2021/02_4</td>\n",
       "    </tr>\n",
       "    <tr>\n",
       "      <th>...</th>\n",
       "      <td>...</td>\n",
       "      <td>...</td>\n",
       "    </tr>\n",
       "    <tr>\n",
       "      <th>990108</th>\n",
       "      <td>12.433246</td>\n",
       "      <td>2021/02_990108</td>\n",
       "    </tr>\n",
       "    <tr>\n",
       "      <th>990109</th>\n",
       "      <td>12.910885</td>\n",
       "      <td>2021/02_990109</td>\n",
       "    </tr>\n",
       "    <tr>\n",
       "      <th>990110</th>\n",
       "      <td>15.834923</td>\n",
       "      <td>2021/02_990110</td>\n",
       "    </tr>\n",
       "    <tr>\n",
       "      <th>990111</th>\n",
       "      <td>16.783176</td>\n",
       "      <td>2021/02_990111</td>\n",
       "    </tr>\n",
       "    <tr>\n",
       "      <th>990112</th>\n",
       "      <td>19.654626</td>\n",
       "      <td>2021/02_990112</td>\n",
       "    </tr>\n",
       "  </tbody>\n",
       "</table>\n",
       "<p>990113 rows × 2 columns</p>\n",
       "</div>"
      ],
      "text/plain": [
       "        travel_time         ride_id\n",
       "0         14.539865       2021/02_0\n",
       "1         13.740422       2021/02_1\n",
       "2         15.593339       2021/02_2\n",
       "3         15.188118       2021/02_3\n",
       "4         13.817206       2021/02_4\n",
       "...             ...             ...\n",
       "990108    12.433246  2021/02_990108\n",
       "990109    12.910885  2021/02_990109\n",
       "990110    15.834923  2021/02_990110\n",
       "990111    16.783176  2021/02_990111\n",
       "990112    19.654626  2021/02_990112\n",
       "\n",
       "[990113 rows x 2 columns]"
      ]
     },
     "execution_count": 21,
     "metadata": {},
     "output_type": "execute_result"
    }
   ],
   "source": [
    "df_out"
   ]
  },
  {
   "cell_type": "code",
   "execution_count": 23,
   "id": "4574eb30",
   "metadata": {},
   "outputs": [
    {
     "name": "stdout",
     "output_type": "stream",
     "text": [
      "Collecting pyarrow\n",
      "  Using cached pyarrow-8.0.0-cp39-cp39-manylinux_2_17_x86_64.manylinux2014_x86_64.whl (29.4 MB)\n",
      "Requirement already satisfied: numpy>=1.16.6 in /home/ubuntu/anaconda3/envs/exp-tracking-env/lib/python3.9/site-packages (from pyarrow) (1.22.4)\n",
      "Installing collected packages: pyarrow\n",
      "Successfully installed pyarrow-8.0.0\n"
     ]
    }
   ],
   "source": [
    "! pip install pyarrow"
   ]
  },
  {
   "cell_type": "code",
   "execution_count": 24,
   "id": "62414b43",
   "metadata": {},
   "outputs": [],
   "source": [
    "df_out.to_parquet(\n",
    "    'output_q2.parquet',\n",
    "    engine='pyarrow',\n",
    "    compression=None,\n",
    "    index=False\n",
    ")"
   ]
  },
  {
   "cell_type": "code",
   "execution_count": 27,
   "id": "a41fc016",
   "metadata": {},
   "outputs": [
    {
     "name": "stdout",
     "output_type": "stream",
     "text": [
      "total 19M\r\n",
      "-rw-rw-r-- 1 ubuntu ubuntu   72 Jun 27 16:48 Dockerfile\r\n",
      "-rw-rw-r-- 1 ubuntu ubuntu  18K Jun 27 16:48 model.bin\r\n",
      "-rw-rw-r-- 1 ubuntu ubuntu  19M Jun 27 18:31 output_q2.parquet\r\n",
      "-rw-rw-r-- 1 ubuntu ubuntu 8.4K Jun 27 18:29 starter.ipynb\r\n"
     ]
    }
   ],
   "source": [
    "! ls -lh"
   ]
  },
  {
   "cell_type": "code",
   "execution_count": 29,
   "id": "28d679c1",
   "metadata": {},
   "outputs": [
    {
     "name": "stdout",
     "output_type": "stream",
     "text": [
      "[NbConvertApp] Converting notebook starter.ipynb to script\n",
      "[NbConvertApp] Writing 1396 bytes to starter.py\n"
     ]
    }
   ],
   "source": [
    "! jupyter nbconvert --to script starter.ipynb"
   ]
  },
  {
   "cell_type": "code",
   "execution_count": 34,
   "id": "eb5f445f",
   "metadata": {},
   "outputs": [
    {
     "name": "stdout",
     "output_type": "stream",
     "text": [
      "Overwriting starter.py\n"
     ]
    }
   ],
   "source": [
    "%%writefile starter.py\n",
    "\n",
    "import pickle\n",
    "import pandas as pd\n",
    "import sys\n",
    "\n",
    "\n",
    "with open('model.bin', 'rb') as f_in:\n",
    "    dv, lr = pickle.load(f_in)\n",
    "\n",
    "\n",
    "categorical = ['PUlocationID', 'DOlocationID']\n",
    "\n",
    "def read_data(filename):\n",
    "    df = pd.read_parquet(filename)\n",
    "    \n",
    "    df['duration'] = df.dropOff_datetime - df.pickup_datetime\n",
    "    df['duration'] = df.duration.dt.total_seconds() / 60\n",
    "\n",
    "    df = df[(df.duration >= 1) & (df.duration <= 60)].copy()\n",
    "\n",
    "    df[categorical] = df[categorical].fillna(-1).astype('int').astype('str')\n",
    "    \n",
    "    return df\n",
    "\n",
    "\n",
    "def run():\n",
    "    year = int(sys.argv[1])\n",
    "    month = int(sys.argv[2])\n",
    "    \n",
    "    df = read_data(f'https://nyc-tlc.s3.amazonaws.com/trip+data/fhv_tripdata_{year:04d}-{month:02d}.parquet')\n",
    "\n",
    "    dicts = df[categorical].to_dict(orient='records')\n",
    "    X_val = dv.transform(dicts)\n",
    "    y_pred = lr.predict(X_val)\n",
    "    \n",
    "    print('mean predicted travel duration: ', y_pred.mean())\n",
    "    \n",
    "    df_out = pd.DataFrame({'travel_time': y_pred})\n",
    "    \n",
    "    df_out['ride_id'] = f'{year:04d}/{month:02d}_' + df_out.index.astype('str')\n",
    "    \n",
    "    df_out.to_parquet(\n",
    "        'output.parquet',\n",
    "        engine='pyarrow',\n",
    "        compression=None,\n",
    "        index=False\n",
    "    )\n",
    "\n",
    "    \n",
    "    \n",
    "if __name__ == '__main__':\n",
    "    run()\n"
   ]
  },
  {
   "cell_type": "code",
   "execution_count": 35,
   "id": "505bc21c",
   "metadata": {},
   "outputs": [
    {
     "name": "stdout",
     "output_type": "stream",
     "text": [
      ".\t\t    Dockerfile2   model.bin\t     starter.ipynb\r\n",
      "..\t\t    Pipfile\t  output.parquet     starter.py\r\n",
      ".ipynb_checkpoints  Pipfile.lock  output_q2.parquet\r\n"
     ]
    }
   ],
   "source": [
    "! ls -a"
   ]
  },
  {
   "cell_type": "code",
   "execution_count": 4,
   "id": "547b9b85",
   "metadata": {},
   "outputs": [
    {
     "name": "stdout",
     "output_type": "stream",
     "text": [
      "Overwriting Dockerfile\n"
     ]
    }
   ],
   "source": [
    "%%writefile Dockerfile\n",
    "\n",
    "FROM agrigorev/zoomcamp-model:mlops-3.9.7-slim\n",
    "\n",
    "RUN pip install -U pip\n",
    "RUN pip install pipenv\n",
    "\n",
    "WORKDIR /app\n",
    "\n",
    "COPY [ \"Pipfile\", \"Pipfile.lock\", \"starter.py\", \"./\"]\n",
    "\n",
    "RUN pipenv install --system --deploy\n",
    "\n",
    "ENTRYPOINT [\"python3\", \"starter.py\"]"
   ]
  },
  {
   "cell_type": "code",
   "execution_count": null,
   "id": "a183d806",
   "metadata": {},
   "outputs": [],
   "source": []
  }
 ],
 "metadata": {
  "kernelspec": {
   "display_name": "Python 3 (ipykernel)",
   "language": "python",
   "name": "python3"
  },
  "language_info": {
   "codemirror_mode": {
    "name": "ipython",
    "version": 3
   },
   "file_extension": ".py",
   "mimetype": "text/x-python",
   "name": "python",
   "nbconvert_exporter": "python",
   "pygments_lexer": "ipython3",
   "version": "3.9.12"
  }
 },
 "nbformat": 4,
 "nbformat_minor": 5
}
